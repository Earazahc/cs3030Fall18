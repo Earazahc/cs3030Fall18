{
 "cells": [
  {
   "cell_type": "markdown",
   "metadata": {},
   "source": [
    "# Header One\n",
    "## Header Two\n",
    "### Header Three"
   ]
  },
  {
   "cell_type": "markdown",
   "metadata": {},
   "source": [
    "## Jupyter Shortcuts\n",
    "\n",
    "To run a cell and select next cell type: **shift+enter**\n",
    "To run a cell: **control+enter**\n",
    "\n",
    "To change cell from to code mode: **ESC Y**\n",
    "\n",
    "To change cell to markdown mode: **ESC M**"
   ]
  },
  {
   "cell_type": "markdown",
   "metadata": {},
   "source": [
    "# Bash Conditional\n",
    "\n",
    "Whitespace is important in Bash\n",
    "\n",
    ">if [[ condition]]<br>\n",
    ">then<br>\n",
    ">statement<br>\n",
    ">else<br>\n",
    ">statement<br>\n",
    ">fi"
   ]
  },
  {
   "cell_type": "markdown",
   "metadata": {},
   "source": [
    "### Test return codes\n",
    "Use the **$?** after you run a command."
   ]
  }
 ],
 "metadata": {
  "kernelspec": {
   "display_name": "Python 3",
   "language": "python",
   "name": "python3"
  },
  "language_info": {
   "codemirror_mode": {
    "name": "ipython",
    "version": 3
   },
   "file_extension": ".py",
   "mimetype": "text/x-python",
   "name": "python",
   "nbconvert_exporter": "python",
   "pygments_lexer": "ipython3",
   "version": "3.6.5"
  }
 },
 "nbformat": 4,
 "nbformat_minor": 2
}
