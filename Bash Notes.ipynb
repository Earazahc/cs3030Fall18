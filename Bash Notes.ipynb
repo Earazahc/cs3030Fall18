{
 "cells": [
  {
   "cell_type": "markdown",
   "metadata": {},
   "source": [
    "# Copy Commands\n",
    "## Copy files within server\n",
    ">```bash\n",
    "cp <source> <dest>\n",
    ">```\n",
    "    \n",
    "## Secure copy over servers\n",
    ">```bash\n",
    "scp <source> <dest>\n",
    ">```\n",
    "    \n",
    "### Copy from your server to cust. server\n",
    "Need to copy test.data file to \n",
    "* customer server: (icarus.cs.weber.edu)\n",
    "* credentials: user (waldo) and password (letMein) \n",
    "* Destination: /home/homer/data/\n",
    ">```bash\n",
    "scp test.data waldo@icarus.cs.weber.edu:/home/homer/data\n",
    ">```\n",
    "\n",
    "Note: You need to have valid credentials to transfer file to another server"
   ]
  },
  {
   "cell_type": "markdown",
   "metadata": {},
   "source": [
    "### Move or Rename Files\n",
    ">```bash\n",
    "mv <source> <dest>\n",
    ">```\n",
    "    Note: you can move files to different folders, or rename files"
   ]
  },
  {
   "cell_type": "markdown",
   "metadata": {},
   "source": [
    "# SSH: Secure Connect\n",
    "\n",
    "You need to have:\n",
    "* Server address\n",
    "* Credentials: user and password\n",
    ">```bash\n",
    "ssh userName@serverName\n",
    "ex: waldo@icarus.cs.weber.edu\n",
    ">```"
   ]
  },
  {
   "cell_type": "markdown",
   "metadata": {},
   "source": [
    "## Flow Control\n",
    "\n",
    "### For Loops\n",
    ">```bash\n",
    "for item in items\n",
    "do\n",
    "    <statements>\n",
    "done\n",
    ">```\n",
    "\n",
    "    note: if you want the do in the same statement line use the **;** to separate them\n",
    "    \n",
    ">```bash\n",
    "for item in items; do\n",
    "<statements>\n",
    "done \n",
    ">```"
   ]
  },
  {
   "cell_type": "markdown",
   "metadata": {},
   "source": [
    "## Redirecting Input and Output\n",
    "\n",
    "Every time you run a script, you create 3 file handlers\n",
    "* stdin: 0\n",
    "* stdout: 1\n",
    "* stderr: 2\n",
    "\n",
    "To capture output use redirectional output\n",
    "\n",
    ">```bash\n",
    "Use > for stdout to output:  ./hi.sh > out\n",
    "Use 2> for stderr to output: ./hi.sh 2> out\n",
    "Use >> to append to file:    ./hi.sh >> out\n",
    ">```"
   ]
  },
  {
   "cell_type": "markdown",
   "metadata": {},
   "source": [
    "## Sequence of integer number\n",
    "To create a sequence of integer numbers use the **seq** command\n",
    "\n",
    ">```bash\n",
    "seq 10\n",
    ">```\n",
    "\n",
    "seq --help"
   ]
  },
  {
   "cell_type": "code",
   "execution_count": 2,
   "metadata": {},
   "outputs": [
    {
     "name": "stdout",
     "output_type": "stream",
     "text": [
      "1\r\n",
      "2\r\n",
      "3\r\n",
      "4\r\n",
      "5\r\n",
      "6\r\n",
      "\n"
     ]
    }
   ],
   "source": [
    "seq 6"
   ]
  },
  {
   "cell_type": "code",
   "execution_count": 3,
   "metadata": {},
   "outputs": [
    {
     "name": "stdout",
     "output_type": "stream",
     "text": [
      "4\r\n",
      "5\r\n",
      "6\r\n",
      "\n"
     ]
    }
   ],
   "source": [
    "seq 4 6"
   ]
  },
  {
   "cell_type": "code",
   "execution_count": 4,
   "metadata": {},
   "outputs": [
    {
     "name": "stdout",
     "output_type": "stream",
     "text": [
      "1\r\n",
      "3\r\n",
      "5\r\n",
      "7\r\n",
      "\n"
     ]
    }
   ],
   "source": [
    "seq 1 2 8"
   ]
  },
  {
   "cell_type": "markdown",
   "metadata": {},
   "source": [
    "## Timestamp\n",
    "Use the **date** command to get timestamp information"
   ]
  },
  {
   "cell_type": "code",
   "execution_count": 5,
   "metadata": {},
   "outputs": [
    {
     "name": "stdout",
     "output_type": "stream",
     "text": [
      "Mon Sep 10 15:06:28 UTC 2018\r\n",
      "\n"
     ]
    }
   ],
   "source": [
    "date"
   ]
  },
  {
   "cell_type": "markdown",
   "metadata": {},
   "source": [
    "## Formated date output\n",
    "\n",
    ">```bash\n",
    "date +%<FORMAT>\n",
    ">```\n",
    "    \n",
    "To get the format type $ date --help"
   ]
  },
  {
   "cell_type": "code",
   "execution_count": 7,
   "metadata": {},
   "outputs": [
    {
     "name": "stdout",
     "output_type": "stream",
     "text": [
      "09\r\n",
      "\n"
     ]
    }
   ],
   "source": [
    "date +%m"
   ]
  },
  {
   "cell_type": "code",
   "execution_count": 8,
   "metadata": {},
   "outputs": [
    {
     "name": "stdout",
     "output_type": "stream",
     "text": [
      "09-10\r\n",
      "\n"
     ]
    }
   ],
   "source": [
    "date +%m-%d"
   ]
  },
  {
   "cell_type": "markdown",
   "metadata": {},
   "source": [
    "## wc command\n",
    "You can retrieve the number of lines, chars, bytes, or words from output.\n",
    "wc --help\n",
    "\n",
    ">```bash\n",
    "    wc -l\n",
    ">```"
   ]
  },
  {
   "cell_type": "markdown",
   "metadata": {},
   "source": [
    "## Piping\n",
    "Use the **\\|** which will send the **output** of one program as **input** to another program."
   ]
  },
  {
   "cell_type": "code",
   "execution_count": 1,
   "metadata": {},
   "outputs": [
    {
     "name": "stdout",
     "output_type": "stream",
     "text": [
      "7\r\n",
      "\n"
     ]
    }
   ],
   "source": [
    "ls *.txt | wc -l"
   ]
  },
  {
   "cell_type": "markdown",
   "metadata": {},
   "source": [
    "### TASK\n",
    "* Move all the files with the .txt extension to a **data** folder.\n",
    "* Rename the files by appending .bk at the end of the file\n",
    "* Finally echo the total number of files that were moved to the data folder"
   ]
  },
  {
   "cell_type": "code",
   "execution_count": 9,
   "metadata": {},
   "outputs": [
    {
     "name": "stdout",
     "output_type": "stream",
     "text": [
      "waldo20.txt\r\n",
      "waldo21.txt\r\n",
      "waldo22.txt\r\n",
      "waldo23.txt\r\n",
      "waldo24.txt\r\n",
      "waldo25.txt\r\n",
      "waldo26.txt\r\n",
      "waldo27.txt\r\n",
      "waldo28.txt\r\n",
      "waldo29.txt\r\n",
      "waldo30.txt\r\n",
      "\n"
     ]
    }
   ],
   "source": [
    "for file in `ls *.txt`\n",
    "do\n",
    "    echo $file\n",
    "done"
   ]
  },
  {
   "cell_type": "code",
   "execution_count": 6,
   "metadata": {},
   "outputs": [
    {
     "name": "stdout",
     "output_type": "stream",
     "text": [
      "Moving notesNoRead.txt to data/notesNoRead.txt.bk\r\n",
      "Moving notes.txt to data/notes.txt.bk\r\n",
      "Moving waldo1_12-09-2018-13-37-18.txt to data/waldo1_12-09-2018-13-37-18.txt.bk\r\n",
      "Moving waldo2_12-09-2018-13-37-20.txt to data/waldo2_12-09-2018-13-37-20.txt.bk\r\n",
      "Moving waldo3_12-09-2018-13-37-22.txt to data/waldo3_12-09-2018-13-37-22.txt.bk\r\n",
      "Moving waldo4_12-09-2018-13-37-24.txt to data/waldo4_12-09-2018-13-37-24.txt.bk\r\n",
      "Moving waldo5_12-09-2018-13-37-26.txt to data/waldo5_12-09-2018-13-37-26.txt.bk\r\n",
      "\n"
     ]
    }
   ],
   "source": [
    "# Rename the files\n",
    "for file in `ls *.txt`\n",
    "do\n",
    "    echo \"Moving $file to data/${file}.bk\"\n",
    "    mv $file data/${file}.bk\n",
    "done"
   ]
  },
  {
   "cell_type": "markdown",
   "metadata": {},
   "source": [
    "### While Loops\n",
    "\n",
    ">```bash\n",
    "    while [[ command ]]\n",
    "    do\n",
    "        <statement>\n",
    "    done\n",
    ">```"
   ]
  },
  {
   "cell_type": "markdown",
   "metadata": {},
   "source": [
    "## Cut Command\n",
    "cut fields from string $ cut --help\n",
    "\n",
    "ex:\n",
    ">```bash\n",
    "cat list.txt | cut -d ':' -f 2\n",
    "seperating fields with the ':' delimiter and printing second field\n",
    ">```"
   ]
  },
  {
   "cell_type": "markdown",
   "metadata": {},
   "source": [
    "## The grep command\n",
    "Use grep to search/find strings in files: $ grep --help\n",
    "\n",
    "ex:\n",
    ">```bash\n",
    "grep wsu /etc/passwd\n",
    ">```"
   ]
  },
  {
   "cell_type": "markdown",
   "metadata": {},
   "source": [
    "## The getopt command\n",
    "Validate input options to the program. For example:\n",
    "* -i infile: name of a file\n",
    "* -b blocksize\n",
    "* -q operate in quit mode\n",
    "* -? for usage information (very standard)\n",
    "\n",
    "It is used together with CASE statements\n",
    "See **options.sh** file"
   ]
  },
  {
   "cell_type": "markdown",
   "metadata": {},
   "source": [
    "# Basic GIT Primary Commands\n",
    "* Initialize your repository: **git init**\n",
    "* Check project status: **git status**\n",
    "* To start tracking files: **git add** Note: Only one time per file(s)\n",
    "* To save a version of your files: **git commit** Note: It is recommended to include the log message directly in the commit action e.i. **git commit -m \"LOG MSG\" Files**\n",
    "* If you delete a file, or just want to start over from the last commit, use the following command: **git checkout File**"
   ]
  },
  {
   "cell_type": "markdown",
   "metadata": {},
   "source": [
    "# GIT Secondary Commands\n",
    "* To check log history: **git log**\n",
    "* To push your local repository to **github**: $ git remote add origin \"gitaddrss\""
   ]
  },
  {
   "cell_type": "markdown",
   "metadata": {},
   "source": [
    "## The sort Command\n",
    "Helps you sort data in ascending or descending order\n",
    ">```bash\n",
    "$ sort <options> Files\n",
    "Note: For unique records in reverse order\n",
    "$ sort -r -u FILE\n",
    ">```"
   ]
  },
  {
   "cell_type": "markdown",
   "metadata": {},
   "source": [
    "## The unique Command\n",
    "Print unique lines. Similar to sort, but has more options\n",
    "* -c count number of instances\n",
    "* -d show only dups\n",
    "* -u show only non-dups\n",
    "\n",
    ">```bash\n",
    "$ uniq [options].. [FILES]\n",
    ">```"
   ]
  },
  {
   "cell_type": "markdown",
   "metadata": {},
   "source": [
    "## More VIM Commands\n",
    "* To open another file in a new tab: **:tabnew file**\n",
    "* To browse or switch between tabs: **gt** for greater tab"
   ]
  },
  {
   "cell_type": "markdown",
   "metadata": {},
   "source": [
    "## Type Variables\n",
    "Typing declare on its own displays value of all variables in the environment\n",
    "* -a the variable is treated as array\n",
    "* -f use the function name only\n",
    "* -r make variable read only"
   ]
  },
  {
   "cell_type": "markdown",
   "metadata": {},
   "source": [
    "## Directories\n",
    "\n",
    "Make directories\n",
    ">```bash\n",
    "$ mkdir dirName\n",
    "Delete or remove directories\n",
    "$ rmdir dirName\n",
    "Note: It must be empty\n",
    ">```"
   ]
  },
  {
   "cell_type": "markdown",
   "metadata": {},
   "source": [
    "## From grep to sed to awk\n",
    "\n",
    "### sed is a stream editor (search/replace)\n",
    "\n",
    ">```bash\n",
    "To substitute text in sed use:\n",
    "sed s/OLD/NEW/ <files>\n",
    ">```\n",
    "    \n",
    "    \n",
    "#### Sed Script files\n",
    "Other options:\n",
    "* -e: Editing instruction to follow, EX: sed -e s/FILE/files/ -e s/tt/TT/ FILES\n",
    "* -f: Filename of scripts to follow\n",
    "* -n: Supress automatic output of input lines\n",
    "\n",
    "\n",
    "\n",
    "### awk for manipulation  of structure data\n",
    "\n",
    "Both are stream oriented, reading input from text files one line at a time.\n",
    "\n",
    "Use regular expression for pattern matching\n",
    "\n",
    "Allow users\n",
    "\n",
    "#### AWK Script fies\n",
    "Usage:\n",
    "\n",
    ">```bash\n",
    "$ awk 'options' files\n",
    "$ awk '{ print \\$1 }' files\n",
    ">```\n",
    "\n",
    "#### AWK main options\n",
    "* -F: Change the field seperator\n",
    "* -f: filename of awk script\n",
    "* -v: var=value follows"
   ]
  },
  {
   "cell_type": "markdown",
   "metadata": {},
   "source": []
  },
  {
   "cell_type": "code",
   "execution_count": null,
   "metadata": {},
   "outputs": [],
   "source": []
  }
 ],
 "metadata": {
  "kernelspec": {
   "display_name": "Calysto Bash",
   "language": "bash",
   "name": "calysto_bash"
  },
  "language_info": {
   "file_extension": ".sh",
   "help_links": [
    {
     "text": "MetaKernel Magics",
     "url": "https://github.com/calysto/metakernel/blob/master/metakernel/magics/README.md"
    }
   ],
   "mimetype": "text/x-sh",
   "name": "bash",
   "version": "0.2.0"
  }
 },
 "nbformat": 4,
 "nbformat_minor": 2
}
